{
 "cells": [
  {
   "cell_type": "code",
   "execution_count": 317,
   "metadata": {},
   "outputs": [],
   "source": [
    "# importing necessery libraries\n",
    "import pandas as pd\n",
    "import numpy as np\n",
    "import csv\n",
    "import re\n",
    "# import socket as sc\n",
    "from urllib.parse import urlparse\n",
    "from tld import get_tld\n",
    "import warnings\n",
    "warnings.filterwarnings(\"ignore\", 'This pattern has match groups')\n",
    "# from IPy import IP"
   ]
  },
  {
   "cell_type": "code",
   "execution_count": 330,
   "metadata": {},
   "outputs": [],
   "source": [
    "file = \"urls_all.csv\"\n",
    "df = pd.read_csv(file, sep=\"\\t\", low_memory=False)"
   ]
  },
  {
   "cell_type": "code",
   "execution_count": 331,
   "metadata": {},
   "outputs": [],
   "source": [
    "# for getting the same urls' format, we delete http:// and https://\n",
    "df[\"url\"] = df[\"url\"].str.replace(\"http://\", '')\n",
    "df[\"url\"] = df[\"url\"].str.replace(\"https://\", '')\n",
    "\n",
    "df[\"label\"] = [int(x) for x in df[\"url_type\"]]\n",
    "\n",
    "# cleaning last dash (\"/\") if there are some\n",
    "df[\"url\"] = [x.rstrip('/') for x in df[\"url\"]]\n",
    "df[\"url\"] = [x.lstrip('www.') for x in df[\"url\"]]"
   ]
  },
  {
   "cell_type": "code",
   "execution_count": 349,
   "metadata": {},
   "outputs": [],
   "source": [
    "del df_tmp\n",
    "# for processing faster, we temporaty will work with only 10000 rows\n",
    "df_tmp=df[[\"url\", \"ip\", \"label\"]]"
   ]
  },
  {
   "cell_type": "code",
   "execution_count": 350,
   "metadata": {},
   "outputs": [],
   "source": [
    "# function counts % of vowels\n",
    "def vowels_rate(ip_str):\n",
    "    v_dic = 'AEIOUYaeiouy'\n",
    "    c_dic = 'BCDFGHJKLMNPQRSTVWXZbcdfghjklmnpqrstvwxz'\n",
    "\n",
    "    v_count = {}.fromkeys(v_dic,0)\n",
    "    for char in ip_str:\n",
    "       if char in v_count:\n",
    "           v_count[char] += 1\n",
    "            \n",
    "    c_count = {}.fromkeys(c_dic,0)\n",
    "    for char in ip_str:\n",
    "       if char in c_count:\n",
    "           c_count[char] += 1\n",
    "\n",
    "    v = sum(v_count.values()) # vowels\n",
    "    c = sum(c_count.values()) # consonants\n",
    "    s = v+c # sum of vowels and consonants\n",
    "    \n",
    "    if s==0:\n",
    "        rate=0\n",
    "    else:\n",
    "        rate = v/s\n",
    "    \n",
    "    return round(rate, 4) \n",
    "    \n",
    "# function that extracts authority part of a URL\n",
    "def get_tdl(raw_url):\n",
    "    urlnetloc=[]\n",
    "    for i in raw_url:\n",
    "        url = \"//\"+i\n",
    "        o=urlparse(url)\n",
    "        urlnetloc.append(o.netloc)\n",
    "    return urlnetloc"
   ]
  },
  {
   "cell_type": "code",
   "execution_count": 351,
   "metadata": {},
   "outputs": [
    {
     "name": "stderr",
     "output_type": "stream",
     "text": [
      "/Library/Frameworks/Python.framework/Versions/3.6/lib/python3.6/site-packages/ipykernel_launcher.py:2: SettingWithCopyWarning: \n",
      "A value is trying to be set on a copy of a slice from a DataFrame.\n",
      "Try using .loc[row_indexer,col_indexer] = value instead\n",
      "\n",
      "See the caveats in the documentation: http://pandas.pydata.org/pandas-docs/stable/indexing.html#indexing-view-versus-copy\n",
      "  \n"
     ]
    }
   ],
   "source": [
    "# Extracting lexicon based features\n",
    "df_tmp[\"url_length\"]=df_tmp[\"url\"].str.len()\n",
    "df_tmp[\"tdl\"] = get_tdl(df_tmp[\"url\"])\n",
    "df_tmp[\"tdl_length\"] = df_tmp[\"tdl\"].str.len()\n",
    "df_tmp[\"content_length\"]=df_tmp[\"url_length\"] - df_tmp[\"tdl_length\"]\n",
    "df_tmp[\"special_characters\"] = df_tmp['url'].str.count(r'[^A-Za-z0-9]+')\n",
    "df_tmp[\"slashs\"] = df_tmp[\"url\"].str.count(\"/\")\n",
    "df_tmp[\"vowels_rate\"] = [vowels_rate(i) for i in df_tmp[\"url\"]]\n",
    "df_tmp[\"is_hyphen_tdl\"] = [int(elem) for elem in df_tmp[\"tdl\"].str.contains(\"-\")]\n",
    "df_tmp[\"is_digit_tdl\"] = [int(elem) for elem in df_tmp[\"tdl\"].str.contains(r\"[0-9]\")]\n",
    "df_tmp[\"is_ip_based\"] = [int(elem) for elem in df_tmp[\"tdl\"].str.contains(r\"\\b((?:25[0-5]|2[0-4][0-9]|[01]?[0-9][0-9]?)(?:(?<!\\.)\\b|\\.)){4}\")]\n",
    "df_tmp[\"is_hex_based\"] = [int(elem) for elem in df_tmp[\"tdl\"].str.contains(r\"^[0-9A-Fa-f]+$\")]\n",
    "df_tmp[\"is_underscore\"] = [int(elem) for elem in df_tmp[\"url\"].str.contains(\"_\")]\n",
    "df_tmp[\"is_equal\"] = [int(elem) for elem in df_tmp[\"url\"].str.contains(\"=\")]\n",
    "df_tmp[\"is_comma\"] = [int(elem) for elem in df_tmp[\"url\"].str.contains(\",\")]\n",
    "df_tmp[\"is_semicolon\"] = [int(elem) for elem in df_tmp[\"url\"].str.contains(\";\")]\n",
    "df_tmp[\"is_query_part\"] = [int(elem) for elem in df_tmp[\"url\"].str.contains(r\"[\\\\?&]([^&=]+)=([^&=]+)\")]\n",
    "df_tmp[\"is_aspersed\"] = [int(elem) for elem in df_tmp[\"url\"].str.contains(\"@\")]\n",
    "df_tmp[\"is_username\"] = [int(elem) for elem in df_tmp[\"url\"].str.contains(\"username\")]\n",
    "df_tmp[\"is_password\"] = [int(elem) for elem in df_tmp[\"url\"].str.contains(\"password\")]\n",
    "df_tmp[\"is_nonstandard_port\"] = [int(elem) for elem in df_tmp[\"url\"].str.contains(r\"\\:\\d{4}\")]\n",
    "# df_tmp[\"is_hyphen_url\"] = df_tmp[\"url\"].str.contains(\"-\")\n",
    "# df_tmp[\"is_parameter_part\"] = [int(elem) for elem in df_tmp[\"url\"].str.contains(r\"(\\?|\\&)([^=]+)\\=([^&]+)\")]\n",
    "# df_tmp[\"is_fragment_part\"] = df_tmp[\"url\"].str.contains(r\"(#[\\w\\-]+)?$\")\n",
    "\n",
    "# Delete unnecessary features\n",
    "del df_tmp[\"tdl\"]\n",
    "del df_tmp[\"url\"]"
   ]
  },
  {
   "cell_type": "code",
   "execution_count": null,
   "metadata": {},
   "outputs": [],
   "source": [
    "# Extracting host based features\n",
    "# df_tmp[\"server\"] = df_tmp[\"url\"].str.contains(\"-\")\n",
    "# df_tmp[\"whois_country\"] = df_tmp[\"url\"].str.contains(\"-\")\n",
    "# df_tmp[\"whois_regdate\"] = df_tmp[\"url\"].str.contains(\"-\")\n",
    "# df_tmp[\"whois_updated_date\"] = df_tmp[\"url\"].str.contains(\"-\")"
   ]
  },
  {
   "cell_type": "code",
   "execution_count": 354,
   "metadata": {},
   "outputs": [
    {
     "name": "stdout",
     "output_type": "stream",
     "text": [
      "<class 'pandas.core.frame.DataFrame'>\n",
      "RangeIndex: 4218916 entries, 0 to 4218915\n",
      "Data columns (total 21 columns):\n",
      "ip                     object\n",
      "label                  int64\n",
      "url_length             int64\n",
      "tdl_length             int64\n",
      "content_length         int64\n",
      "special_characters     int64\n",
      "slashs                 int64\n",
      "vowels_rate            float64\n",
      "is_hyphen_tdl          int64\n",
      "is_digit_tdl           int64\n",
      "is_ip_based            int64\n",
      "is_hex_based           int64\n",
      "is_underscore          int64\n",
      "is_equal               int64\n",
      "is_comma               int64\n",
      "is_semicolon           int64\n",
      "is_query_part          int64\n",
      "is_aspersed            int64\n",
      "is_username            int64\n",
      "is_password            int64\n",
      "is_nonstandard_port    int64\n",
      "dtypes: float64(1), int64(19), object(1)\n",
      "memory usage: 675.9+ MB\n"
     ]
    }
   ],
   "source": [
    "df_tmp.info()"
   ]
  },
  {
   "cell_type": "code",
   "execution_count": 355,
   "metadata": {},
   "outputs": [
    {
     "name": "stdout",
     "output_type": "stream",
     "text": [
      "<class 'pandas.core.frame.DataFrame'>\n",
      "RangeIndex: 4218916 entries, 0 to 4218915\n",
      "Data columns (total 21 columns):\n",
      "ip                     object\n",
      "label                  int64\n",
      "url_length             int64\n",
      "tdl_length             int64\n",
      "content_length         int64\n",
      "special_characters     int64\n",
      "slashs                 int64\n",
      "vowels_rate            float64\n",
      "is_hyphen_tdl          int64\n",
      "is_digit_tdl           int64\n",
      "is_ip_based            int64\n",
      "is_hex_based           int64\n",
      "is_underscore          int64\n",
      "is_equal               int64\n",
      "is_comma               int64\n",
      "is_semicolon           int64\n",
      "is_query_part          int64\n",
      "is_aspersed            int64\n",
      "is_username            int64\n",
      "is_password            int64\n",
      "is_nonstandard_port    int64\n",
      "dtypes: float64(1), int64(19), object(1)\n",
      "memory usage: 675.9+ MB\n"
     ]
    }
   ],
   "source": [
    "# combining all dataframes into big one and exporting to csv file \n",
    "df_tmp.to_csv(\"urls_final.csv\", sep=';')\n",
    "df_tmp.info()"
   ]
  },
  {
   "cell_type": "code",
   "execution_count": null,
   "metadata": {},
   "outputs": [],
   "source": []
  }
 ],
 "metadata": {
  "kernelspec": {
   "display_name": "Python 3",
   "language": "python",
   "name": "python3"
  },
  "language_info": {
   "codemirror_mode": {
    "name": "ipython",
    "version": 3
   },
   "file_extension": ".py",
   "mimetype": "text/x-python",
   "name": "python",
   "nbconvert_exporter": "python",
   "pygments_lexer": "ipython3",
   "version": "3.6.5"
  }
 },
 "nbformat": 4,
 "nbformat_minor": 2
}
