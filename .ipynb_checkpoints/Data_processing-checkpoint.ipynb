{
 "cells": [
  {
   "cell_type": "code",
   "execution_count": 1,
   "metadata": {},
   "outputs": [],
   "source": [
    "# importing necessery libraries\n",
    "import pandas as pd\n",
    "import numpy as np\n",
    "import csv\n",
    "import re"
   ]
  },
  {
   "cell_type": "code",
   "execution_count": 6,
   "metadata": {},
   "outputs": [],
   "source": [
    "# Dataset files\n",
    "file0 = \"../dataset/0. good_dmoz-3.7M.csv.txt\" #\n",
    "file1 = \"../dataset/1. bad_verified_online-32K.csv.txt\" # \n",
    "file2 = \"../dataset/2. bad_cybercrime-tracker.net.txt\" # \n",
    "file3 = \"../dataset/3. bad_malware-urls.csv.txt\" # \n",
    "file4 = \"../dataset/4. kagle-dataset-1.7K.csv.txt\" # \n",
    "file5 = \"../dataset/5. mix_kagle-data-420K.csv.txt\" # "
   ]
  },
  {
   "cell_type": "code",
   "execution_count": 5,
   "metadata": {},
   "outputs": [
    {
     "name": "stdout",
     "output_type": "stream",
     "text": [
      "<class 'pandas.core.frame.DataFrame'>\n",
      "RangeIndex: 3749906 entries, 0 to 3749905\n",
      "Data columns (total 3 columns):\n",
      "url         object\n",
      "ip          float64\n",
      "url_type    int64\n",
      "dtypes: float64(1), int64(1), object(1)\n",
      "memory usage: 85.8+ MB\n"
     ]
    }
   ],
   "source": [
    "# importing dataset #0 with 'benign urls' from dmoz\n",
    "df0 = pd.read_csv(file0, sep=\"^\", header=None, names=[\"id\", \"url\"])\n",
    "#deleting nulls\n",
    "df0.drop([\"id\"], axis=1, inplace=True)\n",
    "#insert column with the static value=0 which is for 'white urls'\n",
    "df0['url_type']=0\n",
    "#insert empty column for ip addresses. It will be filled later\n",
    "df0[\"ip\"] = np.nan\n",
    "#reorder columns\n",
    "df0=df0[[\"url\", \"ip\", \"url_type\"]]\n",
    "df0.info()"
   ]
  },
  {
   "cell_type": "code",
   "execution_count": 396,
   "metadata": {},
   "outputs": [
    {
     "name": "stdout",
     "output_type": "stream",
     "text": [
      "<class 'pandas.core.frame.DataFrame'>\n",
      "RangeIndex: 32437 entries, 0 to 32436\n",
      "Data columns (total 3 columns):\n",
      "url         32437 non-null object\n",
      "ip          0 non-null float64\n",
      "url_type    32437 non-null int64\n",
      "dtypes: float64(1), int64(1), object(1)\n",
      "memory usage: 760.3+ KB\n"
     ]
    }
   ],
   "source": [
    "# importing dataset #1\n",
    "df1 = pd.read_csv(file1, sep=\",\", usecols=[\"url\"])\n",
    "# url_type=1 that is for phishing\n",
    "df1['url_type']=1\n",
    "#insert empty column for ip addresses. It will be filled later\n",
    "df1[\"ip\"] = np.nan\n",
    "#reorder columns\n",
    "df1=df1[[\"url\", \"ip\", \"url_type\"]]\n",
    "df1.info()"
   ]
  },
  {
   "cell_type": "code",
   "execution_count": 314,
   "metadata": {},
   "outputs": [
    {
     "name": "stdout",
     "output_type": "stream",
     "text": [
      "<class 'pandas.core.frame.DataFrame'>\n",
      "RangeIndex: 13819 entries, 0 to 13818\n",
      "Data columns (total 3 columns):\n",
      "url         13819 non-null object\n",
      "ip          0 non-null float64\n",
      "url_type    13819 non-null int64\n",
      "dtypes: float64(1), int64(1), object(1)\n",
      "memory usage: 324.0+ KB\n"
     ]
    }
   ],
   "source": [
    "# importing dataset #2\n",
    "df2 = pd.read_csv(file2, header=None, names=[\"url\"])\n",
    "# url_type=1 that is for exploits\n",
    "df2['url_type']=2\n",
    "#insert empty column for ip addresses. It will be filled later\n",
    "df2[\"ip\"] = np.nan\n",
    "#reorder columns\n",
    "df2=df2[[\"url\", \"ip\", \"url_type\"]]\n",
    "df2.info()"
   ]
  },
  {
   "cell_type": "code",
   "execution_count": 289,
   "metadata": {},
   "outputs": [
    {
     "name": "stdout",
     "output_type": "stream",
     "text": [
      "<class 'pandas.core.frame.DataFrame'>\n",
      "Int64Index: 2290 entries, 0 to 2289\n",
      "Data columns (total 3 columns):\n",
      "url         2290 non-null object\n",
      "ip          2290 non-null object\n",
      "url_type    2290 non-null int64\n",
      "dtypes: int64(1), object(2)\n",
      "memory usage: 71.6+ KB\n"
     ]
    }
   ],
   "source": [
    "# importing dataset #3\n",
    "df3 = pd.read_csv(file3, header=None, names=[\"date\", \"url\", \"ip\", \"domain\", \"url_type_txt\", \"email\", \"svalue\", \"uknown\"])\n",
    "# delete unnecessary columns\n",
    "df3.drop([\"date\", \"domain\", \"email\", \"svalue\", \"uknown\"], axis=1, inplace=True)\n",
    "# delete nulls\n",
    "df3.dropna(inplace=True)\n",
    "# url_type=1 that is for exploits\n",
    "df3['url_type']=2\n",
    "# change url_type to 1 (that is phishing) where it is necessary\n",
    "df3.loc[df3.url_type_txt.str.lower().str.contains('phish', 'fake'), 'url_type'] = 1\n",
    "df3.drop([\"url_type_txt\"], axis=1, inplace=True)\n",
    "df3.info()"
   ]
  },
  {
   "cell_type": "code",
   "execution_count": 306,
   "metadata": {},
   "outputs": [],
   "source": [
    "# importing dataset #4\n",
    "# df4 = pd.read_csv(file4, header=None)"
   ]
  },
  {
   "cell_type": "code",
   "execution_count": 305,
   "metadata": {},
   "outputs": [
    {
     "name": "stdout",
     "output_type": "stream",
     "text": [
      "<class 'pandas.core.frame.DataFrame'>\n",
      "RangeIndex: 420464 entries, 0 to 420463\n",
      "Data columns (total 3 columns):\n",
      "url         420464 non-null object\n",
      "ip          0 non-null float64\n",
      "url_type    420464 non-null float64\n",
      "dtypes: float64(2), object(1)\n",
      "memory usage: 9.6+ MB\n"
     ]
    }
   ],
   "source": [
    "# importing dataset #5\n",
    "df5 = pd.read_csv(file5, header=0)\n",
    "# the dateset has 'good' and 'bad' lables, we change that to 0 and 2 respectivelly\n",
    "df5.loc[df5.label.str.lower().str.contains('bad'), 'url_type'] = 2.\n",
    "df5.loc[df5.label.str.lower().str.contains('good'), 'url_type'] = 0.\n",
    "#insert empty column for ip addresses. It will be filled later\n",
    "df5[\"ip\"] = np.nan\n",
    "#reorder columns\n",
    "df5 = df5[[\"url\", \"ip\", \"url_type\"]]\n",
    "df5.info()"
   ]
  },
  {
   "cell_type": "code",
   "execution_count": 407,
   "metadata": {},
   "outputs": [
    {
     "name": "stdout",
     "output_type": "stream",
     "text": [
      "<class 'pandas.core.frame.DataFrame'>\n",
      "Int64Index: 4218916 entries, 0 to 420463\n",
      "Data columns (total 3 columns):\n",
      "url         object\n",
      "ip          object\n",
      "url_type    float64\n",
      "dtypes: float64(1), object(2)\n",
      "memory usage: 128.8+ MB\n"
     ]
    }
   ],
   "source": [
    "# combining all dataframes into big one and exporting to csv file \n",
    "df = pd.concat([df0, df1, df2, df3, df5])\n",
    "df.to_csv(\"urls_all.csv\", sep='\\t')\n",
    "df.info()"
   ]
  }
 ],
 "metadata": {
  "kernelspec": {
   "display_name": "Python 3",
   "language": "python",
   "name": "python3"
  },
  "language_info": {
   "codemirror_mode": {
    "name": "ipython",
    "version": 3
   },
   "file_extension": ".py",
   "mimetype": "text/x-python",
   "name": "python",
   "nbconvert_exporter": "python",
   "pygments_lexer": "ipython3",
   "version": "3.6.5"
  }
 },
 "nbformat": 4,
 "nbformat_minor": 2
}
